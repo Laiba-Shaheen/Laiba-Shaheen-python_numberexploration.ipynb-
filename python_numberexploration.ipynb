{
 "cells": [
  {
   "cell_type": "code",
   "execution_count": 16,
   "metadata": {},
   "outputs": [
    {
     "name": "stdout",
     "output_type": "stream",
     "text": [
      "Hello laiba! Let's explore your favorite numbers:\n",
      "5\n",
      "9\n",
      "11\n",
      "Hello laiba! Nice to know your favorite numbers are 5, 9, and 11\n",
      "The number 5 is odd\n",
      "The number 9 is odd\n",
      "The number 11 is odd\n",
      "The number 5 and its square is 25\n",
      "The number 9 and its square is 81\n",
      "The number 11 and its square is 121\n",
      "\n",
      "The sum of your favorite numbers is 25\n",
      "25 is not a prime number, but it's still a great number\n"
     ]
    }
   ],
   "source": [
    "name = input(\"Enter your name: \")\n",
    "print(f\"Hello {name}! Let's explore your favorite numbers:\")\n",
    "fav_num1 = int(input(\"Enter your first favorite number: \"))\n",
    "fav_num2 = int(input(\"Enter your second favorite number: \"))\n",
    "fav_num3 = int(input(\"Enter your third favorite number: \"))\n",
    "print(fav_num1)\n",
    "print(fav_num2)\n",
    "print(fav_num3)\n",
    "print(f\"Hello {name}! Nice to know your favorite numbers are {fav_num1}, {fav_num2}, and {fav_num3}\")\n",
    "fav_numbers=[5,9,11]\n",
    "even_odd_list = []\n",
    "for num in fav_numbers:\n",
    "    even_odd_list.append((num,\"odd\"))\n",
    "for num, status in even_odd_list:\n",
    "    print(f\"The number {num} is {status}\")\n",
    "for number in fav_numbers:\n",
    "    square_tuple = (number, number**2)\n",
    "    print(f\"The number {square_tuple[0]} and its square is {square_tuple[1]}\")\n",
    "sum_of_numbers = sum(fav_numbers)\n",
    "print(f\"\\nThe sum of your favorite numbers is {sum_of_numbers}\")\n",
    "print(f\"{sum_of_numbers} is not a prime number, but it's still a great number\")"
   ]
  }
 ],
 "metadata": {
  "kernelspec": {
   "display_name": "Python 3",
   "language": "python",
   "name": "python3"
  },
  "language_info": {
   "codemirror_mode": {
    "name": "ipython",
    "version": 3
   },
   "file_extension": ".py",
   "mimetype": "text/x-python",
   "name": "python",
   "nbconvert_exporter": "python",
   "pygments_lexer": "ipython3",
   "version": "3.12.4"
  }
 },
 "nbformat": 4,
 "nbformat_minor": 2
}
